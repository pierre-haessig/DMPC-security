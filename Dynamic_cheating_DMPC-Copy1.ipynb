{
 "cells": [
  {
   "cell_type": "markdown",
   "metadata": {},
   "source": [
    "# Study of the parameters"
   ]
  },
  {
   "cell_type": "markdown",
   "metadata": {},
   "source": [
    "The objective of this study is to determine the influence of the different parameters on the power distribution. We will now focus on the dynamic model which is described relies on DMPC.py."
   ]
  },
  {
   "cell_type": "markdown",
   "metadata": {},
   "source": [
    "One of the principal issue here is to get an overview of the compfort parameter in ordr to use it to cheat in the CMPC at first."
   ]
  },
  {
   "cell_type": "markdown",
   "metadata": {},
   "source": [
    "\n",
    "-- Sylvain Chatel, July 2016 --"
   ]
  },
  {
   "cell_type": "code",
   "execution_count": 2,
   "metadata": {
    "collapsed": false
   },
   "outputs": [
    {
     "name": "stderr",
     "output_type": "stream",
     "text": [
      "/Users/sylvainchatel/anaconda/lib/python2.7/site-packages/matplotlib/font_manager.py:273: UserWarning: Matplotlib is building the font cache using fc-list. This may take a moment.\n",
      "  warnings.warn('Matplotlib is building the font cache using fc-list. This may take a moment.')\n"
     ]
    }
   ],
   "source": [
    "from __future__ import division, print_function\n",
    "import DMPC_Draft as DO\n",
    "from cvxopt import matrix, solvers\n",
    "import numpy as np\n",
    "from tabulate import tabulate\n",
    "import matplotlib.pyplot as plt\n",
    "from tempfile import TemporaryFile\n",
    "%matplotlib inline"
   ]
  },
  {
   "cell_type": "markdown",
   "metadata": {},
   "source": [
    "## Influence of the comfort parameter for two users"
   ]
  },
  {
   "cell_type": "markdown",
   "metadata": {},
   "source": [
    "### Definition of the problem"
   ]
  },
  {
   "cell_type": "code",
   "execution_count": 3,
   "metadata": {
    "collapsed": false
   },
   "outputs": [],
   "source": [
    "# number of users\n",
    "m = 2\n",
    "# vector of users\n",
    "i = np.arange(m)\n",
    "# Time step\n",
    "dt = 0.1  # h\n",
    "# Simulation Horizon\n",
    "N_sim = int(24/dt)\n",
    "# Prediction Horizon\n",
    "N = int(5/dt)\n",
    "# time vector\n",
    "t = np.arange(N + N_sim) * dt\n",
    "t_sim = np.arange(N_sim) * dt\n",
    "# max energy in kW\n",
    "Umax = 3\n",
    "# max admissible energy\n",
    "u_m = np.array([2, 2], dtype=float)\n",
    "# thermal parameters\n",
    "        ## Exterior Temperature on the whole horizon\n",
    "Text_sim = np.ones(m*(N_sim + N))*0\n",
    "        ## Exterior Temperature on the prediction horizon initially\n",
    "Text = Text_sim[0:m*N]\n",
    "        ## Temperature when present\n",
    "Tpres = 22\n",
    "        ## Temperature when absent\n",
    "Tabs = 18\n",
    "        ## Initial temperature in all users\n",
    "T_init = np.array([10, 10], dtype=float)\n",
    "        ## Thermal Resistance\n",
    "Rth = np.array([50, 50], dtype=float)\n",
    "        ## Thermal Capacity\n",
    "Cth = 2*np.array([0.056, 0.056], dtype=float)\n",
    "        ## Reference temperature through the whole horizon\n",
    "T_mod = np.hstack(\n",
    "    (DO.temp_id(N_sim + N, dt, Tabs, Tpres), DO.temp_id(N_sim + N, dt, Tabs, Tpres)))  ## ATTENTION : defined user after user\n",
    "        ## Reference temperature through the simulation horizon\n",
    "T_id_pred = np.hstack(\n",
    "    (DO.temp_id(N_sim, dt, Tabs, Tpres), DO.temp_id(N_sim, dt, Tabs, Tpres)))  ## ATTENTION : defined user after user\n",
    "# comfort factor\n",
    "alpha = np.array([10, 10], dtype=float)\n",
    "alpha_2 = np.array([10, 100], dtype=float)\n",
    "\n",
    "## Verifications\n",
    "assert len(u_m) == m, \"illegal number of users. Expecting %s. and received %s.\" % (m, len(u_m))\n",
    "assert len(T_init) == m, \"illegal number of T_init. Expecting %s. and received %s.\" % (m, len(T_init))\n",
    "assert len(Rth) == m, \"illegal number of Rth. Expecting %s. and received %s.\" % (m, len(Rth))\n",
    "assert len(Cth) == m, \"illegal number of Cth. Expecting %s. and received %s.\" % (m, len(Cth))\n",
    "assert len(alpha) == m, \"illegal number of alpha. Expecting %s. and received %s.\" % (m, len(alpha))\n",
    "\n",
    "# Definition of the dictionary\n",
    "pb_1 = dict(m=m, dt=dt, Umax=Umax, u_m=u_m, Text=Text, Text_sim=Text_sim, T_mod=T_mod, T_init=T_init, Rth=Rth, Cth=Cth,\n",
    "          T_id_pred=T_id_pred, alpha=alpha, N=N, N_sim=N_sim)\n",
    "\n",
    "pb_2 = dict(m=m, dt=dt, Umax=Umax, u_m=u_m, Text=Text, Text_sim=Text_sim, T_mod=T_mod, T_init=T_init, Rth=Rth, Cth=Cth,\n",
    "          T_id_pred=T_id_pred, alpha=alpha_2, N=N, N_sim=N_sim)"
   ]
  },
  {
   "cell_type": "code",
   "execution_count": 4,
   "metadata": {
    "collapsed": false
   },
   "outputs": [],
   "source": [
    "T_1, U_1 = DO.get_Opt_CL(pb_1)\n",
    "T_2, U_2= DO.get_Opt_CL(pb_2)\n",
    "\n",
    "T_id_pred =  T_id_pred.reshape((N_sim, 2))\n",
    "T_1 = T_1.reshape((N_sim, 2))\n",
    "T_2 = T_2.reshape((N_sim, 2))\n",
    "U_1 = U_1.reshape((N_sim, 2))\n",
    "U_2 = U_2.reshape((N_sim, 2))"
   ]
  },
  {
   "cell_type": "code",
   "execution_count": 5,
   "metadata": {
    "collapsed": false
   },
   "outputs": [],
   "source": [
    "def plot_T_tot(pb, T_opt, u_sol, T_opt2, u_sol2):\n",
    "    \"\"\"\n",
    "    DynamicOpt.plot_T(object)\n",
    "    Parameters : dictionary of the variables, number of the user, the vector of all optimal temperature\n",
    "    from DynamicOpt.get_temp_op_OL and the vector of optimal power.\n",
    "    returns : graph of the ideal temperature and the optimum temperature.\n",
    "    \"\"\"\n",
    "    T_id_pred = pb['T_id_pred']\n",
    "    dt = pb['dt']\n",
    "    m = pb['m']\n",
    "    N_sim = pb['N_sim']\n",
    "    t = np.arange(N_sim) * dt\n",
    "\n",
    "    fig, (ax1, ax2) = plt.subplots(2,1, sharex=True, figsize=(9, 6))\n",
    "\n",
    "    ax1.plot(t, [T_id_pred[j] for j in range(N_sim)], 'k:',\n",
    "             label='T_id')\n",
    "    ax1.plot(t, T_opt[:, 0], 'b', label=r'$T_{eq}$')\n",
    "    ax1.plot(t, T_opt2[:, 0], 'g', label=r'T_1')\n",
    "    ax1.plot(t, T_opt2[:, 1], 'r', label=r'T_2')\n",
    "    ax1.legend()\n",
    "\n",
    "\n",
    "    ax2.plot(t, u_sol[:, 0], 'b', label='$U_{eq}$')\n",
    "    ax2.plot(t, u_sol2[:, 0], 'g', label='$U_1$')\n",
    "    ax2.plot(t, u_sol2[:, 1], 'r', label='$U_2$')\n",
    "    ax2.legend()\n",
    "\n",
    "    ax1.set(\n",
    "        ylabel=u'T (C)'\n",
    "        #ylim=([17,23])\n",
    "    )\n",
    "\n",
    "    ax2.set(\n",
    "        xlabel='t (h)',\n",
    "        ylabel=u'Power kW'\n",
    "    )\n",
    "\n",
    "\n",
    "    fig.tight_layout()\n",
    "\n",
    "    return fig, (ax1, ax2)"
   ]
  },
  {
   "cell_type": "code",
   "execution_count": 6,
   "metadata": {
    "collapsed": false
   },
   "outputs": [
    {
     "data": {
      "text/plain": [
       "(6, 7)"
      ]
     },
     "execution_count": 6,
     "metadata": {},
     "output_type": "execute_result"
    },
    {
     "data": {
      "image/png": "[encoded data removed]",
      "text/plain": [
       "<matplotlib.figure.Figure at 0x10cd6db90>"
      ]
     },
     "metadata": {},
     "output_type": "display_data"
    }
   ],
   "source": [
    "plot_T_tot(pb_1, T_1, U_1, T_2, U_2)\n",
    "plt.xlim(6,7)"
   ]
  },
  {
   "cell_type": "markdown",
   "metadata": {},
   "source": [
    "*Note : We can easily extend this result for two users to multiple users using the observations made with the static parametric study.*"
   ]
  },
  {
   "cell_type": "code",
   "execution_count": null,
   "metadata": {
    "collapsed": true
   },
   "outputs": [],
   "source": []
  }
 ],
 "metadata": {
  "kernelspec": {
   "display_name": "Python 2",
   "language": "python",
   "name": "python2"
  },
  "language_info": {
   "codemirror_mode": {
    "name": "ipython",
    "version": 2
   },
   "file_extension": ".py",
   "mimetype": "text/x-python",
   "name": "python",
   "nbconvert_exporter": "python",
   "pygments_lexer": "ipython2",
   "version": "2.7.12"
  }
 },
 "nbformat": 4,
 "nbformat_minor": 0
}
