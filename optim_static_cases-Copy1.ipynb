{
 "cells": [
  {
   "cell_type": "markdown",
   "metadata": {},
   "source": [
    "# Optimal thermal control with distributed QP\n",
    "\n",
    "The objective of this study is to determine a model of energu distribution which requires a quadratic programming in order to optimize the supply. We are comparing two different mathods : centralized and distributed optimization.\n",
    "\n",
    "--Sylvain Chatel, June 2016--\n",
    "\n",
    "We have developped the StaticOptimization package in order to solve this matter."
   ]
  },
  {
   "cell_type": "code",
   "execution_count": null,
   "metadata": {
    "collapsed": false
   },
   "outputs": [],
   "source": [
    "from __future__ import division, print_function\n",
    "import StaticOptimization as SO\n",
    "from cvxopt import matrix, solvers\n",
    "import numpy as np\n",
    "from tabulate import tabulate\n",
    "import matplotlib.pyplot as plt\n",
    "from tempfile import TemporaryFile\n",
    "%matplotlib inline"
   ]
  },
  {
   "cell_type": "markdown",
   "metadata": {},
   "source": [
    "## Problem definition"
   ]
  },
  {
   "cell_type": "markdown",
   "metadata": {},
   "source": [
    "We consider a n differents users (rooms). Each room has a ideal temperature that maximises its comfort. Howerever, the amount of energy available is limited and so is the amount each room can receive.\n",
    "\n",
    "Hence, we must proceed to an optimization in order to distribute the energy available to all users maximising the global confort.\n",
    "\n",
    "Let them be $n$ rooms, with each a miximum amount of energy $ U_m $. The total amount of energy is $ U_{max} $. Each room deisres an ideal temperature $ T_{id} $ in comparison to the external temperature $ T_{ext} $.\n",
    "\n",
    "<img src='therm_diagram.png' width='500'>\n",
    "\n",
    "The objective function is as follow :\n",
    "$$ J(u) = J_{energy}(u) + \\alpha J_{comfort}(u) $$\n",
    "\n",
    "$\\alpha$ represents the importance of the comfort. The comfort function is modelled by a mean squarred error to the ideal temperature.\n",
    "\n",
    "So the objective function is :\n",
    "\n",
    "$$ J(u) = <\\textbf{1}, u> + \\alpha \\sum_{i=1}^{n} Rth^{i}(u_i-u_i^{ideal}) $$\n",
    "\n",
    "Where $Rth_i$ stands for the thermal resistance of the room $i$. \n"
   ]
  },
  {
   "cell_type": "markdown",
   "metadata": {},
   "source": [
    "The optimization problem is given by the following constraints :\n",
    "$$ \\sum_{n=1}^{n} u_i < U_{max} $$\n",
    "\n",
    "$$ \\forall\\; i\\; \\in [0, n], \\; 0 \\leq u_{i} \\leq u_{imax} $$"
   ]
  },
  {
   "cell_type": "markdown",
   "metadata": {},
   "source": [
    "*Note : In order to keep the optimization problem interesting, the total amount of energy should be inferior to the sum of the ideal energies of each room.* "
   ]
  },
  {
   "cell_type": "markdown",
   "metadata": {},
   "source": [
    "## QP problem"
   ]
  },
  {
   "cell_type": "markdown",
   "metadata": {},
   "source": [
    "### Variables definitions"
   ]
  },
  {
   "cell_type": "markdown",
   "metadata": {},
   "source": [
    "Here can be defined all variables :"
   ]
  },
  {
   "cell_type": "code",
   "execution_count": null,
   "metadata": {
    "collapsed": false
   },
   "outputs": [],
   "source": [
    "n = 4\n",
    "i = np.arange(n)\n",
    "# max energy in kW\n",
    "Umax = 10\n",
    "u_m = np.array([3, 3, 3, 3], dtype=float)\n",
    "assert len(u_m) == n\n",
    "# thermal resistance\n",
    "beta = 5\n",
    "Rth = beta / u_m\n",
    "# Exterior temperature\n",
    "Text = 15\n",
    "# Ideal temperature in degrees\n",
    "T_id = np.array([20, 21, 22, 25], dtype=float)\n",
    "assert len(T_id) == n\n",
    "# comfort factor\n",
    "alpha = 100\n",
    "\n",
    "pb = dict(Rth=Rth, Text=Text, T_id=T_id, Umax=Umax, u_m=u_m, alpha=alpha)\n",
    "pb"
   ]
  },
  {
   "cell_type": "markdown",
   "metadata": {},
   "source": [
    "Then we resolve the QP :"
   ]
  },
  {
   "cell_type": "code",
   "execution_count": null,
   "metadata": {
    "collapsed": false
   },
   "outputs": [],
   "source": [
    "u_sol_c = SO.optim_central(pb)\n",
    "u_sol_d = SO.optim_decen(pb, 1.5, 1.0e-2)\n",
    "print(u_sol_d[2])"
   ]
  },
  {
   "cell_type": "markdown",
   "metadata": {},
   "source": [
    "*Note :The break count enable the reader to check the number of iteration realized in the Uzawa method.*"
   ]
  },
  {
   "cell_type": "markdown",
   "metadata": {},
   "source": [
    "### Results :"
   ]
  },
  {
   "cell_type": "markdown",
   "metadata": {},
   "source": [
    "**First the centralized solution**"
   ]
  },
  {
   "cell_type": "code",
   "execution_count": null,
   "metadata": {
    "collapsed": false
   },
   "outputs": [],
   "source": [
    "SO.print_sol(pb, u_sol_c)\n",
    "SO.plot_sol(pb, u_sol_c)"
   ]
  },
  {
   "cell_type": "markdown",
   "metadata": {},
   "source": [
    "**Then the distributed solution**"
   ]
  },
  {
   "cell_type": "code",
   "execution_count": null,
   "metadata": {
    "collapsed": false
   },
   "outputs": [],
   "source": [
    "SO.print_sol(pb, u_sol_d)\n",
    "SO.plot_sol(pb, u_sol_d)"
   ]
  },
  {
   "cell_type": "markdown",
   "metadata": {},
   "source": [
    "Observation : \n",
    "   *  In both cases, we reach the optimum enregy distribution to maximize the comfort in regards to the  ressources.\n",
    "   *  The distributed method is based on a recursive protocol. We must keep in mind that a step to high might force the serie to diverge.\n",
    "   *  we can verify the week duality : $ J(u_{cent}^{*}) < J(u_{dist}^{*} ) $."
   ]
  },
  {
   "cell_type": "markdown",
   "metadata": {},
   "source": [
    "### Parametric analysis"
   ]
  },
  {
   "cell_type": "markdown",
   "metadata": {},
   "source": [
    "In this section, we analyse the influence of the different parameters on the optimal solution. We especially want to determine the results given by the distributed approch."
   ]
  },
  {
   "cell_type": "markdown",
   "metadata": {},
   "source": [
    "#### Influence of the problem's entries"
   ]
  },
  {
   "cell_type": "code",
   "execution_count": null,
   "metadata": {
    "collapsed": true
   },
   "outputs": [],
   "source": [
    "Umax = 30\n",
    "Text = 15\n",
    "alpha = 100\n",
    "beta = 6\n",
    "\n",
    "u_m1 = np.array([5, 5, 5, 5, 5, 5], dtype=float)\n",
    "T_id1 = np.array([21, 23, 25, 25, 25, 21], dtype=float)\n",
    "Rth1 = beta / u_m1\n",
    "\n",
    "u_m2 = np.array([5, 5, 5, 8, 10, 10], dtype=float)\n",
    "T_id2 = np.array([21, 23, 25, 25, 25, 21], dtype=float)\n",
    "Rth2 = beta / u_m2\n",
    "\n",
    "pb1 = dict(Rth=Rth1, Text=Text, T_id=T_id1, Umax=Umax, u_m=u_m1, alpha=alpha)\n",
    "pb2 = dict(Rth=Rth2, Text=Text, T_id=T_id2, Umax=Umax, u_m=u_m2, alpha=alpha)"
   ]
  },
  {
   "cell_type": "code",
   "execution_count": null,
   "metadata": {
    "collapsed": false
   },
   "outputs": [],
   "source": [
    "SO.plot_sol(pb1, SO.optim_central(pb1))\n",
    "SO.plot_sol(pb2, SO.optim_central(pb2))"
   ]
  },
  {
   "cell_type": "markdown",
   "metadata": {},
   "source": [
    "*Note : We can see on both graph above that in the ideal case where $\\sum_{n=1}^{n} u_{max} = U_{max}$*, all the available ressources are used. If the ressources are not enough they are distributed so that all users are satisfied as a whole."
   ]
  },
  {
   "cell_type": "code",
   "execution_count": null,
   "metadata": {
    "collapsed": false
   },
   "outputs": [],
   "source": [
    "SO.plot_sol(pb1, SO.optim_decen(pb1, 1.5, 1.0e-2))\n",
    "SO.plot_sol(pb2, SO.optim_decen(pb2, 1.5, 1.0e-2))"
   ]
  },
  {
   "cell_type": "markdown",
   "metadata": {},
   "source": [
    "### Influence of the program parameters"
   ]
  },
  {
   "cell_type": "markdown",
   "metadata": {},
   "source": [
    "In this section, we want to determine the influence of parameters such as the step, the error precision and the number of iteration max on the distributed solution."
   ]
  },
  {
   "cell_type": "markdown",
   "metadata": {},
   "source": [
    "*  Centralized case :"
   ]
  },
  {
   "cell_type": "code",
   "execution_count": null,
   "metadata": {
    "collapsed": false
   },
   "outputs": [],
   "source": [
    "SO.plot_sol(pb2, SO.optim_central(pb1))"
   ]
  },
  {
   "cell_type": "markdown",
   "metadata": {},
   "source": [
    "*  Distributed case 1 :"
   ]
  },
  {
   "cell_type": "code",
   "execution_count": null,
   "metadata": {
    "collapsed": false
   },
   "outputs": [],
   "source": [
    "SO.plot_sol(pb1, SO.optim_decen(pb2, 1.5, 1.0e-4))"
   ]
  },
  {
   "cell_type": "markdown",
   "metadata": {},
   "source": [
    "*  Distributed case 2 :"
   ]
  },
  {
   "cell_type": "code",
   "execution_count": null,
   "metadata": {
    "collapsed": false
   },
   "outputs": [],
   "source": [
    "SO.plot_sol(pb1, SO.optim_decen(pb2, 15, 1.0e-6))"
   ]
  },
  {
   "cell_type": "markdown",
   "metadata": {},
   "source": [
    "*  Centralized case :"
   ]
  },
  {
   "cell_type": "code",
   "execution_count": null,
   "metadata": {
    "collapsed": false
   },
   "outputs": [],
   "source": [
    "SO.print_sol(pb2, SO.optim_central(pb1))"
   ]
  },
  {
   "cell_type": "markdown",
   "metadata": {},
   "source": [
    "*  Distributed case 1 :"
   ]
  },
  {
   "cell_type": "code",
   "execution_count": null,
   "metadata": {
    "collapsed": false
   },
   "outputs": [],
   "source": [
    "SO.print_sol(pb2, SO.optim_decen(pb1, 1.5, 1.0e-6))"
   ]
  },
  {
   "cell_type": "markdown",
   "metadata": {},
   "source": [
    "*  Distributed case 2 :"
   ]
  },
  {
   "cell_type": "code",
   "execution_count": null,
   "metadata": {
    "collapsed": false
   },
   "outputs": [],
   "source": [
    "SO.print_sol(pb2, SO.optim_decen(pb1, 15, 1.0e-6))"
   ]
  },
  {
   "cell_type": "markdown",
   "metadata": {},
   "source": [
    "### Influence of the step in the Uzawa iteration"
   ]
  },
  {
   "cell_type": "code",
   "execution_count": null,
   "metadata": {
    "collapsed": true
   },
   "outputs": [],
   "source": [
    "outfile = TemporaryFile()"
   ]
  },
  {
   "cell_type": "code",
   "execution_count": null,
   "metadata": {
    "collapsed": false
   },
   "outputs": [],
   "source": [
    "def save_step(pb, step_min, step_max, nbr , e):\n",
    "    step = np.logspace(np.log10(step_min), np.log10(step_max), nbr)\n",
    "    \n",
    "    U = []\n",
    "    k_val = []\n",
    "    L_val = []\n",
    "\n",
    "    for x in np.nditer(step):\n",
    "        u_sol, L, k = SO.optim_decen(pb, x, e)\n",
    "        U.append(u_sol.sum()-pb['Umax'])\n",
    "        L_val.append(L)\n",
    "        k_val.append(k)\n",
    "\n",
    "    np.savez(outfile, U=U, k_val=k_val, L_val=L_val, step_min=step_min, step_max=step_max, nbr=nbr, e=e)\n",
    "    outfile.seek(0)"
   ]
  },
  {
   "cell_type": "code",
   "execution_count": null,
   "metadata": {
    "collapsed": false
   },
   "outputs": [],
   "source": [
    "#save_step(pb, 1, 250, 100, 1.0e-3)"
   ]
  },
  {
   "cell_type": "code",
   "execution_count": null,
   "metadata": {
    "collapsed": true
   },
   "outputs": [],
   "source": [
    "def plot_step(outfile):\n",
    "    \"\"\"\n",
    "        StaticOptimization.plot_sol(param, range, precision, error )\n",
    "        Parameters : dictionary of parameters (Rth, Text, T_id, Umax, u_m, alpha), range of \n",
    "        step, \n",
    "        precision, error\n",
    "        Returns : out graph of the distributed optimization total power allocation and the \n",
    "        centralized optimization\n",
    "        total power allocation, the graph of the evolution of the Lagrangian multiplier and \n",
    "        the number of iteration\n",
    "        regarding the step.\n",
    "    \"\"\"\n",
    "\n",
    "    fig, (ax1, ax2, ax3) = plt.subplots(3,1)\n",
    "    fig.tight_layout()\n",
    "    \n",
    "    sav = np.load(outfile)\n",
    "    U = sav['U']\n",
    "    k_val = sav['k_val']\n",
    "    L_val = sav['L_val']\n",
    "    step_min=sav['step_min']\n",
    "    step_max=sav['step_max']\n",
    "    nbr=sav['nbr']\n",
    "    \n",
    "    step = np.logspace(np.log10(step_min), np.log10(step_max), nbr)\n",
    "    ax1.plot(step, U, '-+', label='$ PA^{*}$ distributed')\n",
    "    ax2.plot(step, L_val, '-+')\n",
    "    ax3.plot(step, k_val)\n",
    "    ax1.set(\n",
    "        ylabel='$ u^{*} $',\n",
    "        title = 'mean to Umax as a function of the step of the Uzawa iteration'\n",
    "    )\n",
    "    ax2.set(\n",
    "        ylabel='$ L $',\n",
    "        title='Lagrangian multiplier as a function of the step of the Uzawa iteration'\n",
    "    )\n",
    "    ax3.set(\n",
    "        ylabel='number of iteration',\n",
    "        title='number of iteration as a function of the step of the Uzawa iteration'\n",
    "    )\n",
    "\n",
    "    plt.show()\n",
    "    fig.savefig('step_opt.png', dpi=200, bbox_inches='tight')\n",
    "    fig.savefig('step_opt.pdf', bbox_inches='tight')\n",
    "    return fig, (ax1, ax2, ax3)"
   ]
  },
  {
   "cell_type": "code",
   "execution_count": null,
   "metadata": {
    "collapsed": false
   },
   "outputs": [],
   "source": [
    "plot_step(outfile)"
   ]
  },
  {
   "cell_type": "code",
   "execution_count": null,
   "metadata": {
    "collapsed": false
   },
   "outputs": [],
   "source": [
    "run -p StaticOptimization.py"
   ]
  },
  {
   "cell_type": "code",
   "execution_count": null,
   "metadata": {
    "collapsed": true
   },
   "outputs": [],
   "source": []
  }
 ],
 "metadata": {
  "kernelspec": {
   "display_name": "Python 2",
   "language": "python",
   "name": "python2"
  },
  "language_info": {
   "codemirror_mode": {
    "name": "ipython",
    "version": 2
   },
   "file_extension": ".py",
   "mimetype": "text/x-python",
   "name": "python",
   "nbconvert_exporter": "python",
   "pygments_lexer": "ipython2",
   "version": "2.7.11"
  }
 },
 "nbformat": 4,
 "nbformat_minor": 0
}
