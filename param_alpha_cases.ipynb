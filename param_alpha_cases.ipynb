{
 "cells": [
  {
   "cell_type": "markdown",
   "metadata": {},
   "source": [
    "# Study of the comfort parameter"
   ]
  },
  {
   "cell_type": "markdown",
   "metadata": {},
   "source": [
    "The objective of this study is to determine the influence of the comfort parameter $\\alpha$ on the power distribution. For the simplicity of the preliminary approach, we will focus on the static model which is described in the study optim_static_cases."
   ]
  },
  {
   "cell_type": "markdown",
   "metadata": {},
   "source": [
    "One of the principal issue here is to get an overview of the compfort parameter in ordr to use it to cheat in the DMPC."
   ]
  },
  {
   "cell_type": "markdown",
   "metadata": {},
   "source": [
    "\n",
    "-- Sylvain Chatel, July 2016 --"
   ]
  },
  {
   "cell_type": "code",
   "execution_count": 1,
   "metadata": {
    "collapsed": false
   },
   "outputs": [
    {
     "name": "stderr",
     "output_type": "stream",
     "text": [
      "/Users/sylvainchatel/anaconda/lib/python2.7/site-packages/matplotlib/font_manager.py:273: UserWarning: Matplotlib is building the font cache using fc-list. This may take a moment.\n",
      "  warnings.warn('Matplotlib is building the font cache using fc-list. This may take a moment.')\n"
     ]
    }
   ],
   "source": [
    "from __future__ import division, print_function\n",
    "import StaticOptimization as SO\n",
    "from cvxopt import matrix, solvers\n",
    "import numpy as np\n",
    "from tabulate import tabulate\n",
    "import matplotlib.pyplot as plt\n",
    "from tempfile import TemporaryFile\n",
    "%matplotlib inline"
   ]
  },
  {
   "cell_type": "markdown",
   "metadata": {},
   "source": [
    "## Influence of the comfort parameter for a single user"
   ]
  },
  {
   "cell_type": "markdown",
   "metadata": {},
   "source": [
    "To insure better comprehension to the reader, the comfort parameter is a ponderation coefficient which applies to each system to the quadratic difference between the temperature and the desired temperature."
   ]
  },
  {
   "cell_type": "markdown",
   "metadata": {},
   "source": [
    "$$ J(u) = J_{energy}(u) + \\alpha J_{comfort}(u) $$"
   ]
  },
  {
   "cell_type": "markdown",
   "metadata": {},
   "source": [
    "$$ J(u) = <\\textbf{1}, u> + \\sum_{i=1}^{n} \\alpha(i)\\; Rth_{i}\\;(u_i-u_i^{ideal}) $$"
   ]
  },
  {
   "cell_type": "markdown",
   "metadata": {},
   "source": [
    "###  Definition of the parameters"
   ]
  },
  {
   "cell_type": "code",
   "execution_count": 2,
   "metadata": {
    "collapsed": true
   },
   "outputs": [],
   "source": [
    "m = 1\n",
    "\n",
    "# max energy in kW\n",
    "Umax = 2\n",
    "u_m = np.array([1.5], dtype=float)\n",
    "\n",
    "# thermal resistance\n",
    "Rth =np.array([10])\n",
    "\n",
    "# Exterior temperature\n",
    "Text = 10\n",
    "\n",
    "# Ideal temperature in degrees\n",
    "T_id = np.array([21], dtype=float)\n",
    "\n",
    "# Ideal energy\n",
    "deltaT = (T_id - Text)\n",
    "\n",
    "# comfort factor\n",
    "alpha = np.asarray([1], dtype=float)\n",
    "\n",
    "pb = dict(Rth=Rth, Text=Text, T_id=T_id, Umax=Umax, u_m=u_m, alpha=alpha)"
   ]
  },
  {
   "cell_type": "markdown",
   "metadata": {},
   "source": [
    "### Influence of alpha on the energy and temperature"
   ]
  },
  {
   "cell_type": "code",
   "execution_count": 3,
   "metadata": {
    "collapsed": true
   },
   "outputs": [],
   "source": [
    "def param_alpha1(pb, a_beg, a_end, nbr):\n",
    "    assert m==1, \"illegal number of users. Expecting 1 and received %s.\" % m\n",
    "    Rth=pb['Rth']\n",
    "    Text=pb['Text']\n",
    "    T_id=pb['T_id']\n",
    "    Umax=pb['Umax']\n",
    "    u_m=pb['u_m']\n",
    "    alpha=pb['alpha']\n",
    "\n",
    "    u_id = (T_id - Text) / Rth\n",
    "\n",
    "    alpha_ratio = np.logspace(a_beg, a_end, nbr)\n",
    "\n",
    "    _U = np.zeros( len(alpha_ratio))\n",
    "    _DT = np.zeros(len(alpha_ratio))\n",
    "\n",
    "    for z, ratio in enumerate(alpha_ratio):\n",
    "\n",
    "        alpha_z = ratio*alpha\n",
    "        _pb = dict(Rth=Rth, Text=Text, T_id=T_id, Umax=Umax, u_m=u_m, alpha=alpha_z)\n",
    "        \n",
    "        u_sol_d = SO.optim_central(_pb)[0]\n",
    "        \n",
    "        _U[z] = u_sol_d[0]\n",
    "        _DT[z] = Rth[0] * (u_sol_d[0] - u_id[0])\n",
    "\n",
    "    return _U, _DT, alpha_ratio"
   ]
  },
  {
   "cell_type": "code",
   "execution_count": 4,
   "metadata": {
    "collapsed": true
   },
   "outputs": [],
   "source": [
    "def plot_alpha1(_U, _DT, alpha_ratio):\n",
    "        fig, (ax1, ax2) = plt.subplots(2, 1, sharex=True)\n",
    "\n",
    "        ax1.plot(alpha_ratio, _U, 'r-+', label='1')\n",
    "\n",
    "        ax1.hlines(Umax , alpha_ratio[0], alpha_ratio[-1], linestyles='--', label='')\n",
    "\n",
    "        ax1.set(\n",
    "            title=r'Parametric study of the comfort factor for $\\alpha_=$ %s' % alpha[0],\n",
    "            ylabel='$u^{*}$',\n",
    "            xscale='log'\n",
    "        )\n",
    "\n",
    "        ax1.legend(loc='upper left', markerscale=0.4)\n",
    "\n",
    "        ax2.plot(alpha_ratio, _DT, 'r')\n",
    "    \n",
    "        ax2.set(\n",
    "            xlabel=r'$ \\alpha*x$',\n",
    "            ylabel=r'$\\Delta T = T -T_{id}$',\n",
    "        )\n",
    "\n",
    "        fig.tight_layout()\n",
    "\n",
    "        plt.show()\n",
    "\n",
    "        return fig, (ax1, ax2)"
   ]
  },
  {
   "cell_type": "code",
   "execution_count": 5,
   "metadata": {
    "collapsed": false
   },
   "outputs": [],
   "source": [
    "_U, _DT, alpha_ratio = param_alpha1(pb, -3, 3, 50)"
   ]
  },
  {
   "cell_type": "code",
   "execution_count": 6,
   "metadata": {
    "collapsed": false
   },
   "outputs": [
    {
     "data": {
      "image/png": "[encoded data removed]",
      "text/plain": [
       "<matplotlib.figure.Figure at 0x109fc15d0>"
      ]
     },
     "metadata": {},
     "output_type": "display_data"
    },
    {
     "data": {
      "text/plain": [
       "(<matplotlib.figure.Figure at 0x109fc15d0>,\n",
       " (<matplotlib.axes._subplots.AxesSubplot at 0x1040a9f50>,\n",
       "  <matplotlib.axes._subplots.AxesSubplot at 0x10cb3eb50>))"
      ]
     },
     "execution_count": 6,
     "metadata": {},
     "output_type": "execute_result"
    }
   ],
   "source": [
    "plot_alpha1(_U, _DT, alpha_ratio)"
   ]
  },
  {
   "cell_type": "markdown",
   "metadata": {},
   "source": [
    "On the previous figure, we can observe that below a threshold of $\\alpha_{thr} \\simeq \\;0.003$, the system judges that it is not relevant to spend energy to satisfy the referenced temperature. Hence we must keep in mind that the comfort factor should always be superior to that threshold value so that comfort could be taken into account on the optimization problem."
   ]
  },
  {
   "cell_type": "markdown",
   "metadata": {},
   "source": [
    "## Influence of the comfort parameter for two users"
   ]
  },
  {
   "cell_type": "markdown",
   "metadata": {},
   "source": [
    "### Definition of the parameters"
   ]
  },
  {
   "cell_type": "code",
   "execution_count": 7,
   "metadata": {
    "collapsed": true
   },
   "outputs": [],
   "source": [
    "# number of users\n",
    "m = 2\n",
    "\n",
    "# max energy in kW\n",
    "Umax = 2\n",
    "u_m = np.array([1.5, 1.5], dtype=float)\n",
    "\n",
    "# thermal resistance\n",
    "Rth =np.array([10, 10])\n",
    "\n",
    "# Exterior temperature\n",
    "Text = 10\n",
    "\n",
    "# Ideal temperature in degrees\n",
    "T_id = np.array([21, 21], dtype=float)\n",
    "\n",
    "# Ideal energy\n",
    "deltaT = (T_id - Text)\n",
    "\n",
    "# comfort factor\n",
    "alpha = np.asarray([1, 1], dtype=float)\n",
    "\n",
    "pb = dict(Rth=Rth, Text=Text, T_id=T_id, Umax=Umax, u_m=u_m, alpha=alpha)"
   ]
  },
  {
   "cell_type": "markdown",
   "metadata": {},
   "source": [
    "### Study functions"
   ]
  },
  {
   "cell_type": "code",
   "execution_count": 8,
   "metadata": {
    "collapsed": true
   },
   "outputs": [],
   "source": [
    "def param_alpha2(pb, a_beg, a_end, nbr):\n",
    "    assert m==2, \"illegal number of users. Expecting 2 and received %s.\" % m\n",
    "    Rth=pb['Rth']\n",
    "    Text=pb['Text']\n",
    "    T_id=pb['T_id']\n",
    "    Umax=pb['Umax']\n",
    "    u_m=pb['u_m']\n",
    "    alpha=pb['alpha']\n",
    "\n",
    "    u_id = (T_id - Text) / Rth\n",
    "\n",
    "    alpha_ratio = np.logspace(a_beg, a_end, nbr)\n",
    "\n",
    "    _U = np.zeros((2, len(alpha_ratio)))\n",
    "    _DT = np.zeros((2, len(alpha_ratio)))\n",
    "\n",
    "    for z, ratio in enumerate(alpha_ratio):\n",
    "\n",
    "        alpha[1] = ratio*alpha[0]\n",
    "        _pb = dict(Rth=Rth, Text=Text, T_id=T_id, Umax=Umax, u_m=u_m, alpha=alpha)\n",
    "\n",
    "        u_sol_d = SO.optim_central(_pb)[0]\n",
    "    \n",
    "        _U[0, z] = u_sol_d[0]\n",
    "        _U[1, z] = u_sol_d[1]\n",
    "\n",
    "        _DT[0,z] = Rth[0] * (u_sol_d[0] - u_id[0])\n",
    "        _DT[1, z] = Rth[1] * (u_sol_d[1] - u_id[1])\n",
    "\n",
    "    return _U, _DT, alpha_ratio\n",
    "\n",
    "\n",
    "def plot_alpha2(_U, _DT, alpha_ratio):\n",
    "\n",
    "        fig, (ax1, ax2) = plt.subplots(2, 1, sharex=True)\n",
    "\n",
    "        ax1.plot(alpha_ratio, _U[0, :], 'r-+', label='1')\n",
    "        ax1.plot(alpha_ratio, _U[1, :], 'g-+', label='2')\n",
    "\n",
    "        ax1.hlines(Umax , alpha_ratio[0], alpha_ratio[-1], linestyles='--', label='')\n",
    "\n",
    "        ax1.set(\n",
    "            title=r'Parametric study of the comfort factor for $\\alpha_1=$ %s' % alpha[0],\n",
    "            xlabel=r'$ \\alpha_{2} / \\alpha_{1} $',\n",
    "            ylabel='$u^{*}$',\n",
    "            xscale='log'\n",
    "        )\n",
    "\n",
    "        ax1.legend(loc='upper left', markerscale=0.4)\n",
    "\n",
    "        ax2.plot(alpha_ratio, _DT[0, :], 'r')\n",
    "        ax2.plot(alpha_ratio, _DT[1, :], 'g')\n",
    "\n",
    "        ax2.set(\n",
    "            xlabel=r'$ \\alpha_{2} / \\alpha_{1} $',\n",
    "            ylabel=r'$\\Delta T = T -T_{id}$',\n",
    "        )\n",
    "\n",
    "        fig.tight_layout()\n",
    "\n",
    "        plt.show()\n",
    "\n",
    "        return fig, (ax1, ax2)"
   ]
  },
  {
   "cell_type": "code",
   "execution_count": 9,
   "metadata": {
    "collapsed": false
   },
   "outputs": [
    {
     "data": {
      "image/png": "[encoded data removed]",
      "text/plain": [
       "<matplotlib.figure.Figure at 0x10f9961d0>"
      ]
     },
     "metadata": {},
     "output_type": "display_data"
    },
    {
     "data": {
      "text/plain": [
       "(<matplotlib.figure.Figure at 0x10f9961d0>,\n",
       " (<matplotlib.axes._subplots.AxesSubplot at 0x10f9498d0>,\n",
       "  <matplotlib.axes._subplots.AxesSubplot at 0x10f74b7d0>))"
      ]
     },
     "execution_count": 9,
     "metadata": {},
     "output_type": "execute_result"
    }
   ],
   "source": [
    "_U, _DT, alpha_ratio = param_alpha2(pb, -3, 3, 50)\n",
    "plot_alpha2(_U, _DT, alpha_ratio)"
   ]
  },
  {
   "cell_type": "markdown",
   "metadata": {},
   "source": [
    "On the prvious figure, we can observe that the influence of $\\alpha$. The more $\\alpha$ is superior from the others, the more the user will get a satisfactory energy to reach the reference temperature. Putting aside the influence of the consumption (between 0 and 0.003) we notice as well that the problem is symetrical."
   ]
  },
  {
   "cell_type": "markdown",
   "metadata": {},
   "source": [
    "## Influence of the comfort parameter for multiple users"
   ]
  },
  {
   "cell_type": "markdown",
   "metadata": {},
   "source": [
    "In this section we aim to explain the influence of different value of the comfort parameter on the optimization solution. We consider five users, all identical. "
   ]
  },
  {
   "cell_type": "markdown",
   "metadata": {},
   "source": [
    "### Definition of the parameters"
   ]
  },
  {
   "cell_type": "code",
   "execution_count": 10,
   "metadata": {
    "collapsed": true
   },
   "outputs": [],
   "source": [
    "# number of users\n",
    "m = 5\n",
    "i = np.arange(m)\n",
    "\n",
    "# max energy in kW\n",
    "Umax = 2\n",
    "u_m = np.array([1.5, 1.5, 1.5, 1.5, 1.5], dtype=float)\n",
    "\n",
    "# thermal resistance\n",
    "Rth =np.array([10, 10, 10, 10, 10])\n",
    "\n",
    "# Exterior temperature\n",
    "Text = 10\n",
    "\n",
    "# Ideal temperature in degrees\n",
    "T_id = np.array([21, 21, 21, 21, 21], dtype=float)\n",
    "\n",
    "# Ideal energy\n",
    "deltaT = (T_id - Text)\n",
    "\n",
    "# comfort factor\n",
    "alpha = np.asarray([2, 2, 2, 2, 2], dtype=float)\n",
    "\n",
    "pb = dict(Rth=Rth, Text=Text, T_id=T_id, Umax=Umax, u_m=u_m, alpha=alpha)"
   ]
  },
  {
   "cell_type": "markdown",
   "metadata": {},
   "source": [
    "### Creation of the study functions"
   ]
  },
  {
   "cell_type": "code",
   "execution_count": 11,
   "metadata": {
    "collapsed": true
   },
   "outputs": [],
   "source": [
    "def param_alpha(pb, a_beg, a_end, nbr):\n",
    "    Rth=pb['Rth']\n",
    "    Text=pb['Text']\n",
    "    T_id=pb['T_id']\n",
    "    Umax=pb['Umax']\n",
    "    u_m=pb['u_m']\n",
    "    alpha=pb['alpha']\n",
    "\n",
    "    u_id = (T_id - Text) / Rth\n",
    "\n",
    "    alpha_ratio = np.logspace(a_beg, a_end, nbr)\n",
    "\n",
    "    _U = np.zeros((m, len(alpha_ratio)))\n",
    "    _DT = np.zeros((m, len(alpha_ratio)))\n",
    "\n",
    "    for z, ratio in enumerate(alpha_ratio):\n",
    "\n",
    "        alpha[m-1] = ratio*alpha[0]\n",
    "        _pb = dict(Rth=Rth, Text=Text, T_id=T_id, Umax=Umax, u_m=u_m, alpha=alpha)\n",
    "        \n",
    "        u_sol_d = SO.optim_central(_pb)[0]\n",
    "        \n",
    "        for k in range(m):\n",
    "            _U[k, z] = u_sol_d[k]\n",
    "            _DT[k, z] = Rth[k] * (u_sol_d[k] - u_id[k])\n",
    "\n",
    "    return _U, _DT, alpha_ratio\n"
   ]
  },
  {
   "cell_type": "code",
   "execution_count": 12,
   "metadata": {
    "collapsed": true
   },
   "outputs": [],
   "source": [
    "def plot_alpha(_U, _DT, alpha_ratio):\n",
    "        fig, (ax1, ax2) = plt.subplots(2, 1, sharex=True)\n",
    "\n",
    "        for k in range(m-1):\n",
    "            ax1.plot(alpha_ratio, _U[k, :], 'g')\n",
    "        ax1.plot(alpha_ratio, _U[m-1, :], 'r')\n",
    "\n",
    "        ax1.hlines(Umax/m , alpha_ratio[0], alpha_ratio[-1], linestyles='--', label='')\n",
    "\n",
    "        ax1.set(\n",
    "            title=r'Parametric study of the comfort factor for $\\alpha=$ %s' % alpha[0],\n",
    "            xlabel=r'$ \\alpha_{%s} / \\alpha_{1} $'% m,\n",
    "            ylabel='$u^{*}$',\n",
    "            xscale='log'\n",
    "        )\n",
    "        for k in range(m-1):\n",
    "            ax2.plot(alpha_ratio, _DT[k, :], 'g')\n",
    "        ax2.plot(alpha_ratio, _DT[m-1, :], 'r')\n",
    "        \n",
    "        ax2.set(\n",
    "            xlabel=r'$ \\alpha_{%s} / \\alpha_{1} $' % m,\n",
    "            ylabel=r'$\\Delta T = T -T_{id}$',\n",
    "        )\n",
    "\n",
    "        fig.tight_layout()\n",
    "\n",
    "        plt.show()\n",
    "\n",
    "        return fig, (ax1, ax2)"
   ]
  },
  {
   "cell_type": "code",
   "execution_count": 13,
   "metadata": {
    "collapsed": false
   },
   "outputs": [],
   "source": [
    "_U, _DT, alpha_ratio = param_alpha(pb, -3, 3, 50)"
   ]
  },
  {
   "cell_type": "code",
   "execution_count": 14,
   "metadata": {
    "collapsed": false
   },
   "outputs": [
    {
     "data": {
      "image/png": "[encoded data removed]",
      "text/plain": [
       "<matplotlib.figure.Figure at 0x109f3fad0>"
      ]
     },
     "metadata": {},
     "output_type": "display_data"
    },
    {
     "data": {
      "text/plain": [
       "(<matplotlib.figure.Figure at 0x109f3fad0>,\n",
       " (<matplotlib.axes._subplots.AxesSubplot at 0x10f9f5a90>,\n",
       "  <matplotlib.axes._subplots.AxesSubplot at 0x111009e90>))"
      ]
     },
     "execution_count": 14,
     "metadata": {},
     "output_type": "execute_result"
    }
   ],
   "source": [
    "plot_alpha(_U, _DT, alpha_ratio)"
   ]
  },
  {
   "cell_type": "markdown",
   "metadata": {
    "collapsed": true
   },
   "source": [
    "### Influence of the broadcasted temperature"
   ]
  },
  {
   "cell_type": "code",
   "execution_count": 15,
   "metadata": {
    "collapsed": false
   },
   "outputs": [],
   "source": [
    "m = 3\n",
    "# max energy in kW\n",
    "Umax = 2\n",
    "u_m = np.array([1.5, 1.5, 1.5], dtype=float)\n",
    "# thermal resistance\n",
    "Rth =np.array([10, 10, 10])\n",
    "# Exterior temperature\n",
    "Text = 10\n",
    "# Ideal temperature in degrees\n",
    "T_id = np.array([21, 21, 21], dtype=float)\n",
    "# Ideal energy\n",
    "deltaT = (T_id - Text)\n",
    "# comfort factor\n",
    "alpha = np.asarray([10, 10, 10], dtype=float)\n",
    "pb = dict(Rth=Rth, Text=Text, T_id=T_id, Umax=Umax, u_m=u_m, alpha=alpha)"
   ]
  },
  {
   "cell_type": "code",
   "execution_count": 16,
   "metadata": {
    "collapsed": true
   },
   "outputs": [],
   "source": [
    "def param_Tbc(pb):\n",
    "    assert m == 3, \"illegal number of users. Expecting 3 and received %s.\" % m\n",
    "    Rth = pb['Rth']\n",
    "    Text = pb['Text']\n",
    "    T_id = pb['T_id']\n",
    "    Umax = pb['Umax']\n",
    "    u_m = pb['u_m']\n",
    "    alpha = pb['alpha']\n",
    "\n",
    "    u_id_real = (T_id - Text) / Rth\n",
    "\n",
    "    T_sup = np.linspace(-1, 4, 20)\n",
    "\n",
    "    _U = np.zeros((3, len(T_sup)))\n",
    "    _DT = np.zeros((3, len(T_sup)))\n",
    "\n",
    "    for z, sup in enumerate(T_sup):\n",
    "\n",
    "        T_id[0] = T_id[0] + sup\n",
    "\n",
    "        _pb = dict(Rth=Rth, Text=Text, T_id=T_id, Umax=Umax, u_m=u_m, alpha=alpha)\n",
    "\n",
    "        u_sol_d = SO.optim_central(_pb)[0]\n",
    "        _U[0, z] = u_sol_d[0]\n",
    "        _U[1, z] = u_sol_d[1]\n",
    "        _U[2, z] = u_sol_d[2]\n",
    "        _DT[0, z] = Rth[0] * (u_sol_d[0] - u_id_real[0])\n",
    "        _DT[1, z] = Rth[1] * (u_sol_d[1] - u_id_real[1])\n",
    "        _DT[2, z] = Rth[2] * (u_sol_d[2] - u_id_real[2])\n",
    "\n",
    "    return _U, _DT, T_sup\n",
    "\n",
    "\n",
    "def plot_Tbc(_U, _DT, T_sup):\n",
    "    fig, (ax1, ax2) = plt.subplots(2, 1, sharex=True)\n",
    "\n",
    "    ax1.plot(T_sup, _U[0, :], 'r-+', label='1')\n",
    "    ax1.plot(T_sup, _U[1, :], 'g-+', label='2')\n",
    "    ax1.plot(T_sup, _U[2, :], 'g-+', label='3')\n",
    "\n",
    "    ax1.hlines(Umax, T_sup[0], T_sup[-1], linestyles='--', label='')\n",
    "\n",
    "    ax1.set(\n",
    "        title=r'Parametric study of the comfort factor for $\\alpha_1=$ %s' % alpha[0],\n",
    "        xlabel=r'$ T_{sup} $',\n",
    "        ylabel='$u^{*}$',\n",
    "        #xscale='log',\n",
    "    )\n",
    "\n",
    "    ax1.legend(loc='upper left', markerscale=0.4)\n",
    "\n",
    "    ax2.plot(T_sup, _DT[0, :], 'r')\n",
    "    ax2.plot(T_sup, _DT[1, :], 'g')\n",
    "    ax2.plot(T_sup, _DT[2, :], 'b')\n",
    "\n",
    "    ax2.set(\n",
    "        xlabel=r'$ T_{sup} $',\n",
    "        ylabel=r'$\\Delta T = T -T_{id}$',\n",
    "    )\n",
    "\n",
    "    fig.tight_layout()\n",
    "\n",
    "    plt.show()\n",
    "\n",
    "    return fig, (ax1, ax2)"
   ]
  },
  {
   "cell_type": "code",
   "execution_count": 17,
   "metadata": {
    "collapsed": false
   },
   "outputs": [
    {
     "data": {
      "image/png": "[encoded data removed]",
      "text/plain": [
       "<matplotlib.figure.Figure at 0x10fc16910>"
      ]
     },
     "metadata": {},
     "output_type": "display_data"
    },
    {
     "data": {
      "text/plain": [
       "(<matplotlib.figure.Figure at 0x10fc16910>,\n",
       " (<matplotlib.axes._subplots.AxesSubplot at 0x1112b1510>,\n",
       "  <matplotlib.axes._subplots.AxesSubplot at 0x1117047d0>))"
      ]
     },
     "execution_count": 17,
     "metadata": {},
     "output_type": "execute_result"
    }
   ],
   "source": [
    " _U, _DT, ratio_Tbc = param_Tbc(pb)\n",
    "plot_Tbc(_U, _DT, ratio_Tbc)"
   ]
  },
  {
   "cell_type": "markdown",
   "metadata": {},
   "source": [
    "### Influence of the broadcasted Rth"
   ]
  },
  {
   "cell_type": "code",
   "execution_count": 18,
   "metadata": {
    "collapsed": true
   },
   "outputs": [],
   "source": [
    "m = 3\n",
    "# max energy in kW\n",
    "Umax = 2\n",
    "u_m = np.array([1.5, 1.5, 1.5], dtype=float)\n",
    "# thermal resistance\n",
    "Rth =np.array([10, 10, 10])\n",
    "# Exterior temperature\n",
    "Text = 10\n",
    "# Ideal temperature in degrees\n",
    "T_id = np.array([21, 21, 21], dtype=float)\n",
    "# Ideal energy\n",
    "deltaT = (T_id - Text)\n",
    "# comfort factor\n",
    "alpha = np.asarray([10, 10, 10], dtype=float)\n",
    "pb = dict(Rth=Rth, Text=Text, T_id=T_id, Umax=Umax, u_m=u_m, alpha=alpha)"
   ]
  },
  {
   "cell_type": "code",
   "execution_count": 19,
   "metadata": {
    "collapsed": true
   },
   "outputs": [],
   "source": [
    "def param_Rth(pb):\n",
    "    assert m == 3, \"illegal number of users. Expecting 3 and received %s.\" % m\n",
    "    Rth = pb['Rth']\n",
    "    Rth_real = pb['Rth']\n",
    "    jaimelesprunes = Rth\n",
    "    Text = pb['Text']\n",
    "    T_id = pb['T_id']\n",
    "    Umax = pb['Umax']\n",
    "    u_m = pb['u_m']\n",
    "    alpha = pb['alpha']\n",
    "    \n",
    "    u_id = (T_id - Text)*1.0 / Rth\n",
    "\n",
    "    varRth = np.linspace(1.0, 4.0, 100)\n",
    "\n",
    "    _U = np.zeros((3, len(varRth)))\n",
    "    _DT = np.zeros((3, len(varRth)))\n",
    "\n",
    "    for z, sup in enumerate(varRth):\n",
    "\n",
    "        jaimelesprunes[0] = sup\n",
    "\n",
    "        _pb = dict(Rth=jaimelesprunes, Text=Text, T_id=T_id, Umax=Umax, u_m=u_m, alpha=alpha)\n",
    "\n",
    "        u_sol_d = SO.optim_central(_pb)[0]\n",
    "        _U[0, z] = u_sol_d[0]\n",
    "        _U[1, z] = u_sol_d[1]\n",
    "        _U[2, z] = u_sol_d[2]\n",
    "        _DT[0, z] = Rth_real[0] * (u_sol_d[0] - u_id[0])\n",
    "        _DT[1, z] = Rth_real[1] * (u_sol_d[1] - u_id[1])\n",
    "        _DT[2, z] = Rth_real[2] * (u_sol_d[2] - u_id[2])\n",
    "\n",
    "    return _U, _DT, varRth, Rth_real\n",
    "\n",
    "\n",
    "def plot_Rth(_U, _DT, varRth, Rth_real):\n",
    "    fig, (ax1, ax2) = plt.subplots(2, 1, sharex=True)\n",
    "\n",
    "    ax1.plot(varRth, _U[0, :], 'r-+', label='1')\n",
    "    ax1.plot(varRth, _U[1, :], 'g-+', label='2')\n",
    "    ax1.plot(varRth, _U[2, :], 'g-+', label='3')\n",
    "\n",
    "    ax1.hlines(Umax, varRth[0], varRth[-1], linestyles='--', label='')\n",
    "\n",
    "    ax1.set(\n",
    "        title=r'Parametric study of the broacasted Rth for $Rth_{real}$= %s' % Rth_real[0],\n",
    "        xlabel=r'$ T_{sup} $',\n",
    "        ylabel='$u^{*}$',\n",
    "        #xscale='log',\n",
    "    )\n",
    "\n",
    "    ax1.legend(loc='upper left', markerscale=0.4)\n",
    "\n",
    "    ax2.plot(varRth, _DT[0, :], 'r')\n",
    "    ax2.plot(varRth, _DT[1, :], 'g')\n",
    "    ax2.plot(varRth, _DT[2, :], 'b')\n",
    "\n",
    "    ax2.set(\n",
    "        xlabel=r'$Rth$',\n",
    "        ylabel=r'$\\Delta T = T -T_{id}$',\n",
    "    )\n",
    "\n",
    "    fig.tight_layout()\n",
    "\n",
    "    plt.show()\n",
    "\n",
    "    return fig, (ax1, ax2)"
   ]
  },
  {
   "cell_type": "code",
   "execution_count": 20,
   "metadata": {
    "collapsed": false
   },
   "outputs": [
    {
     "data": {
      "image/png": "[encoded data removed]",
      "text/plain": [
       "<matplotlib.figure.Figure at 0x1117d7f10>"
      ]
     },
     "metadata": {},
     "output_type": "display_data"
    },
    {
     "data": {
      "text/plain": [
       "(<matplotlib.figure.Figure at 0x1117d7f10>,\n",
       " (<matplotlib.axes._subplots.AxesSubplot at 0x111906790>,\n",
       "  <matplotlib.axes._subplots.AxesSubplot at 0x1119360d0>))"
      ]
     },
     "execution_count": 20,
     "metadata": {},
     "output_type": "execute_result"
    }
   ],
   "source": [
    "_U, _DT, ratio_Rth, Rth_real= param_Rth(pb)\n",
    "plot_Rth(_U, _DT, ratio_Rth, Rth_real)"
   ]
  },
  {
   "cell_type": "markdown",
   "metadata": {},
   "source": [
    "TODO : NEED TO UNDERSTAND WHY WON'T PRINT THE RIGHT Rth_real KEEP PRINTING 4. MIGHT BE DUE TO THE DICT ??"
   ]
  },
  {
   "cell_type": "code",
   "execution_count": null,
   "metadata": {
    "collapsed": true
   },
   "outputs": [],
   "source": []
  }
 ],
 "metadata": {
  "kernelspec": {
   "display_name": "Python 2",
   "language": "python",
   "name": "python2"
  },
  "language_info": {
   "codemirror_mode": {
    "name": "ipython",
    "version": 2
   },
   "file_extension": ".py",
   "mimetype": "text/x-python",
   "name": "python",
   "nbconvert_exporter": "python",
   "pygments_lexer": "ipython2",
   "version": "2.7.11"
  }
 },
 "nbformat": 4,
 "nbformat_minor": 0
}
