{
 "cells": [
  {
   "cell_type": "markdown",
   "metadata": {},
   "source": [
    "# Optimal thermal control with linprog\n",
    "\n",
    "Linprog used as a baseline performance, for comparison with other approximate optimal control methods in [thermal_manage.ipynb](thermal_manage.ipynb).\n",
    "\n",
    "Pierre Haessig, May 2016"
   ]
  },
  {
   "cell_type": "code",
   "execution_count": 1,
   "metadata": {
    "collapsed": true
   },
   "outputs": [],
   "source": [
    "from __future__ import unicode_literals, print_function, division"
   ]
  },
  {
   "cell_type": "code",
   "execution_count": 2,
   "metadata": {
    "collapsed": false
   },
   "outputs": [
    {
     "data": {
      "text/plain": [
       "'0.4.2'"
      ]
     },
     "execution_count": 2,
     "metadata": {},
     "output_type": "execute_result"
    }
   ],
   "source": [
    "import numpy as np\n",
    "import cvxpy as cx\n",
    "cx.__version__"
   ]
  },
  {
   "cell_type": "markdown",
   "metadata": {},
   "source": [
    "notice: the cvxpy API may change in the forthcoming 1.0 version (cf. [issue #199](https://github.com/cvxgrp/cvxpy/issues/199))"
   ]
  },
  {
   "cell_type": "code",
   "execution_count": 3,
   "metadata": {
    "collapsed": false
   },
   "outputs": [
    {
     "name": "stderr",
     "output_type": "stream",
     "text": [
      "/Users/sylvainchatel/anaconda/lib/python2.7/site-packages/matplotlib/font_manager.py:273: UserWarning: Matplotlib is building the font cache using fc-list. This may take a moment.\n",
      "  warnings.warn('Matplotlib is building the font cache using fc-list. This may take a moment.')\n"
     ]
    }
   ],
   "source": [
    "import matplotlib as mpl\n",
    "import matplotlib.pyplot as plt\n",
    "%matplotlib inline"
   ]
  },
  {
   "cell_type": "code",
   "execution_count": 4,
   "metadata": {
    "collapsed": false
   },
   "outputs": [],
   "source": [
    "mpl.style.use(['seaborn-deep', 'seaborn-whitegrid', 'seaborn-notebook'])\n",
    "mpl.rcParams['figure.figsize'] = [8, 3.5]  # thin plots for time series"
   ]
  },
  {
   "cell_type": "markdown",
   "metadata": {},
   "source": [
    "## Problem definition"
   ]
  },
  {
   "cell_type": "markdown",
   "metadata": {},
   "source": [
    "Load problem data. choice of units: hours, kW, Celsius degrees."
   ]
  },
  {
   "cell_type": "code",
   "execution_count": 5,
   "metadata": {
    "collapsed": true
   },
   "outputs": [],
   "source": [
    "from therm_data import dt, C, R, P_max"
   ]
  },
  {
   "cell_type": "code",
   "execution_count": 6,
   "metadata": {
    "collapsed": false
   },
   "outputs": [
    {
     "name": "stdout",
     "output_type": "stream",
     "text": [
      "Timestep dt: 0.1 h\n",
      "Capacity C: 1 kWh/K\n",
      "Resistance R: 20 °C/kW\n",
      "P_max: 3 kWh\n"
     ]
    }
   ],
   "source": [
    "print('Timestep dt: {} h'.format(dt))\n",
    "print('Capacity C: {} kWh/K'.format(C))\n",
    "print('Resistance R: {} °C/kW'.format(R))\n",
    "print('P_max: {} kWh'.format(P_max))"
   ]
  },
  {
   "cell_type": "code",
   "execution_count": 7,
   "metadata": {
    "collapsed": true
   },
   "outputs": [],
   "source": [
    "N_sim = int(24/dt)"
   ]
  },
  {
   "cell_type": "markdown",
   "metadata": {},
   "source": [
    "dynamics in discrete time (backward Euler), with timestep $\\Delta_t$ :\n",
    "\n",
    "$$T^+ = T + \\frac{\\Delta_t}{C} ( P - \\frac{T-T_{out}}{R} ) $$"
   ]
  },
  {
   "cell_type": "code",
   "execution_count": 8,
   "metadata": {
    "collapsed": false
   },
   "outputs": [],
   "source": [
    "from therm_data import T0, T_out, occupancy, T_abs, T_pres"
   ]
  },
  {
   "cell_type": "code",
   "execution_count": 9,
   "metadata": {
    "collapsed": false
   },
   "outputs": [],
   "source": [
    "t = np.arange(N_sim)*dt\n",
    "occ = occupancy(t)\n",
    "T_min = np.zeros(N_sim) + T_abs # °C\n",
    "T_min[occ] = T_pres"
   ]
  },
  {
   "cell_type": "markdown",
   "metadata": {},
   "source": [
    "## LP problem\n",
    "\n",
    "with hard temperature constraint $T ≥ T_{min}$"
   ]
  },
  {
   "cell_type": "markdown",
   "metadata": {},
   "source": [
    "Optimization variables:"
   ]
  },
  {
   "cell_type": "code",
   "execution_count": 10,
   "metadata": {
    "collapsed": true
   },
   "outputs": [],
   "source": [
    "P = cx.Variable(N_sim)\n",
    "T = cx.Variable(N_sim)"
   ]
  },
  {
   "cell_type": "markdown",
   "metadata": {},
   "source": [
    "Objective: minimize total consumption"
   ]
  },
  {
   "cell_type": "code",
   "execution_count": 11,
   "metadata": {
    "collapsed": false
   },
   "outputs": [
    {
     "data": {
      "text/plain": [
       "Minimize(Expression(AFFINE, UNKNOWN, (1, 1)))"
      ]
     },
     "execution_count": 11,
     "metadata": {},
     "output_type": "execute_result"
    }
   ],
   "source": [
    "objective = cx.Minimize(cx.sum_entries(P))\n",
    "objective"
   ]
  },
  {
   "cell_type": "markdown",
   "metadata": {},
   "source": [
    "Build the constraints"
   ]
  },
  {
   "cell_type": "code",
   "execution_count": 12,
   "metadata": {
    "collapsed": false,
    "scrolled": true
   },
   "outputs": [
    {
     "name": "stdout",
     "output_type": "stream",
     "text": [
      "Constraints:\n",
      "<= Constant(CONSTANT, ZERO, (1, 1))\n",
      "   Variable(240, 1)\n",
      "\n",
      "<= Variable(240, 1)\n",
      "   Constant(CONSTANT, POSITIVE, (1, 1))\n",
      "\n",
      "<= Constant(CONSTANT, POSITIVE, (240, 1))\n",
      "   Variable(240, 1)\n",
      "\n",
      "== Expression(AFFINE, UNKNOWN, (239, 1))\n",
      "   Expression(AFFINE, UNKNOWN, (239, 1))\n",
      "\n",
      "== Expression(AFFINE, UNKNOWN, (1, 1))\n",
      "   Constant(CONSTANT, POSITIVE, (1, 1))\n",
      "\n"
     ]
    }
   ],
   "source": [
    "# Heating limits:\n",
    "c_Pmin = P >= 0\n",
    "c_Pmax = P <= P_max\n",
    "constraints = [c_Pmin, c_Pmax]\n",
    "\n",
    "# min Temperature set point\n",
    "c_Tmin = T >= T_min\n",
    "constraints += [c_Tmin]\n",
    "\n",
    "# Temp dynamics\n",
    "deltaT = dt/C*(P[:-1] - (T[:-1]-T_out)/R)\n",
    "c_dyn = T[1:] == T[:-1] + deltaT\n",
    "constraints += [c_dyn]\n",
    "\n",
    "# Initial temperature\n",
    "c_T0 = T[0] == T0\n",
    "constraints += [c_T0]\n",
    "\n",
    "\n",
    "print('Constraints:')\n",
    "for c in constraints:\n",
    "    print(c.OP_NAME, end='')\n",
    "    print(' ' +  repr(c.args[0]))\n",
    "    print('   ' +  repr(c.args[1]))\n",
    "    print()"
   ]
  },
  {
   "cell_type": "markdown",
   "metadata": {},
   "source": [
    "Solve the Linear Program:"
   ]
  },
  {
   "cell_type": "code",
   "execution_count": 13,
   "metadata": {
    "collapsed": false
   },
   "outputs": [
    {
     "name": "stdout",
     "output_type": "stream",
     "text": [
      "energy consum: 0.939061 kW avg\n"
     ]
    }
   ],
   "source": [
    "prob = cx.Problem(objective, constraints)\n",
    "result = prob.solve()\n",
    "\n",
    "print('energy consum: {:.6f} kW avg'.format(result/N_sim))"
   ]
  },
  {
   "cell_type": "code",
   "execution_count": 14,
   "metadata": {
    "collapsed": false
   },
   "outputs": [],
   "source": [
    "def plot_traj(t, T, T_out, T_min, P):\n",
    "    'plot of a simulation (temperature and heating)'\n",
    "    fig, (ax1, ax2) = plt.subplots(2,1, sharex=True, figsize=(6,4))\n",
    "    \n",
    "    ax1.plot(t, T)\n",
    "    ax1.plot(t, T_min)\n",
    "\n",
    "    ax2.plot(t, P, 'r')\n",
    "\n",
    "    ax1.set(\n",
    "        ylabel='Temp (°C)',\n",
    "        ylim=(T_abs-0.5, T_pres+0.5)\n",
    "    )\n",
    "    ax2.set(\n",
    "        xlabel='t (h)',\n",
    "        ylabel='P (kW)',\n",
    "        ylim=(P_max*-.05, P_max*1.05)\n",
    "    )\n",
    "    fig.tight_layout()\n",
    "    \n",
    "    return fig, (ax1, ax2)"
   ]
  },
  {
   "cell_type": "code",
   "execution_count": 15,
   "metadata": {
    "collapsed": false
   },
   "outputs": [
    {
     "data": {
      "image/png": "[encoded data removed]",
      "text/plain": [
       "<matplotlib.figure.Figure at 0x10b38c590>"
      ]
     },
     "metadata": {},
     "output_type": "display_data"
    }
   ],
   "source": [
    "plot_traj(t, T.value, T_out, T_min, P.value);"
   ]
  },
  {
   "cell_type": "markdown",
   "metadata": {},
   "source": [
    "Save result (and convert 2D column matrices into 1D arrays)"
   ]
  },
  {
   "cell_type": "code",
   "execution_count": 16,
   "metadata": {
    "collapsed": true
   },
   "outputs": [],
   "source": [
    "np.savez('thermal_lp_sol.npz',\n",
    "         T = np.array(T.value)[:, 0], \n",
    "         P = np.array(P.value)[:, 0],\n",
    "         T_out = T_out,\n",
    "         T_min = T_min\n",
    "        )"
   ]
  },
  {
   "cell_type": "markdown",
   "metadata": {},
   "source": [
    "### A look at dual variables (shadow price of constraints)"
   ]
  },
  {
   "cell_type": "code",
   "execution_count": 17,
   "metadata": {
    "collapsed": false
   },
   "outputs": [
    {
     "data": {
      "text/plain": [
       "0.039038112220211335"
      ]
     },
     "execution_count": 17,
     "metadata": {},
     "output_type": "execute_result"
    }
   ],
   "source": [
    "c_T0.dual_value/N_sim"
   ]
  },
  {
   "cell_type": "code",
   "execution_count": 18,
   "metadata": {
    "collapsed": false
   },
   "outputs": [
    {
     "data": {
      "image/png": "[encoded data removed]",
      "text/plain": [
       "<matplotlib.figure.Figure at 0x1105c3390>"
      ]
     },
     "metadata": {},
     "output_type": "display_data"
    }
   ],
   "source": [
    "plt.plot(t, c_Pmax.dual_value, label='P ≤ P_max')\n",
    "plt.plot(t, c_Pmin.dual_value, label='P ≥ 0')\n",
    "plt.legend()\n",
    "plt.ylim(-0.05, 0.3);"
   ]
  },
  {
   "cell_type": "markdown",
   "metadata": {},
   "source": [
    "Observations:\n",
    "\n",
    "* the $P≥0$ constraint is active in cool down phases. → the optimizer would like to extract power (using a reversible heater if it existed)\n",
    "* the $P≤P_{max}$ constraint is active in the preheating phases. → the optimized would like more power to reduce the duration of preheating (which wastes some energy to the outside)."
   ]
  },
  {
   "cell_type": "code",
   "execution_count": 19,
   "metadata": {
    "collapsed": false
   },
   "outputs": [
    {
     "data": {
      "image/png": "[encoded data removed]",
      "text/plain": [
       "<matplotlib.figure.Figure at 0x11062d110>"
      ]
     },
     "metadata": {},
     "output_type": "display_data"
    }
   ],
   "source": [
    "plt.semilogy(t, c_Tmin.dual_value)\n",
    "#plt.plot(t, c_Tmin.dual_value)\n",
    "plt.ylim(ymin = 1e-2);"
   ]
  },
  {
   "cell_type": "markdown",
   "metadata": {},
   "source": [
    "Observations for $T≥ T_{min}$ constraint:\n",
    "\n",
    "* a low constant cost whenever it must be hold continuously\n",
    "* a high transient cost for edges of high $T_{min}$ values (when occupartion starts and when occupation stops).\n",
    "\n",
    "This implies that reducing occupancy periods is the best way to save energy!"
   ]
  },
  {
   "cell_type": "code",
   "execution_count": 20,
   "metadata": {
    "collapsed": false
   },
   "outputs": [
    {
     "data": {
      "image/png": "[encoded data removed]",
      "text/plain": [
       "<matplotlib.figure.Figure at 0x110927750>"
      ]
     },
     "metadata": {},
     "output_type": "display_data"
    }
   ],
   "source": [
    "plt.plot(t[:-1], c_dyn.dual_value);"
   ]
  },
  {
   "cell_type": "markdown",
   "metadata": {},
   "source": [
    "Observations: \n",
    "\n",
    "* the dynamics has always a positive price (with some minor variations),\n",
    "* except near the end of time, when temperature is in free decay.\n",
    "\n",
    "Explanation attempt:\n",
    "\n",
    "* the constant positive price shows that the system would appreciate a free constant temperature increase term in the dynamics! ($T^+ = T + ... + \\Delta T_0$)\n",
    "* the variations corresponds to the $P_{min}$ and $P_{max}$ constraints, scaled by $\\Delta_t$ (cf. dynamical equation)"
   ]
  },
  {
   "cell_type": "markdown",
   "metadata": {},
   "source": [
    "## Relaxation of the min temperature constraint\n",
    "\n",
    "The min temperature constraint\n",
    "$$T ≥ T_{min} $$\n",
    "\n",
    "is replaced by\n",
    "\n",
    "$$ T ≥ T_{min} - T_{diff}$$\n",
    "where slack variable $T_{diff} ≥0$ is heavily penalized"
   ]
  },
  {
   "cell_type": "code",
   "execution_count": 21,
   "metadata": {
    "collapsed": true
   },
   "outputs": [],
   "source": [
    "P_rlx = cx.Variable(N_sim)\n",
    "T_rlx = cx.Variable(N_sim)\n",
    "# new slack variable:\n",
    "T_diff = cx.Variable(N_sim)"
   ]
  },
  {
   "cell_type": "code",
   "execution_count": 22,
   "metadata": {
    "collapsed": false
   },
   "outputs": [
    {
     "data": {
      "text/plain": [
       "Minimize(Expression(AFFINE, UNKNOWN, (1, 1)))"
      ]
     },
     "execution_count": 22,
     "metadata": {},
     "output_type": "execute_result"
    }
   ],
   "source": [
    "comfort_weight=10\n",
    "\n",
    "objective_rlx = cx.Minimize(cx.sum_entries(P_rlx) +\\\n",
    "                        comfort_weight*cx.sum_entries(T_diff))\n",
    "objective_rlx"
   ]
  },
  {
   "cell_type": "markdown",
   "metadata": {},
   "source": [
    "Build the constraints"
   ]
  },
  {
   "cell_type": "code",
   "execution_count": 23,
   "metadata": {
    "collapsed": false,
    "scrolled": true
   },
   "outputs": [
    {
     "name": "stdout",
     "output_type": "stream",
     "text": [
      "Constraints:\n",
      "<= Constant(CONSTANT, ZERO, (1, 1))\n",
      "   Variable(240, 1)\n",
      "\n",
      "<= Variable(240, 1)\n",
      "   Constant(CONSTANT, POSITIVE, (1, 1))\n",
      "\n",
      "<= Expression(AFFINE, UNKNOWN, (240, 1))\n",
      "   Variable(240, 1)\n",
      "\n",
      "<= Constant(CONSTANT, ZERO, (1, 1))\n",
      "   Variable(240, 1)\n",
      "\n",
      "== Expression(AFFINE, UNKNOWN, (239, 1))\n",
      "   Expression(AFFINE, UNKNOWN, (239, 1))\n",
      "\n",
      "== Expression(AFFINE, UNKNOWN, (1, 1))\n",
      "   Constant(CONSTANT, POSITIVE, (1, 1))\n",
      "\n"
     ]
    }
   ],
   "source": [
    "# Heating limits:\n",
    "constraints_rlx  = [P_rlx >= 0, P_rlx <= P_max]\n",
    "# min Temperature set point, RELAXED\n",
    "constraints_rlx  += [T_rlx >= T_min - T_diff]\n",
    "constraints_rlx  += [T_diff >= 0]\n",
    "# Temp dynamics\n",
    "deltaT = dt/C*(P_rlx[:-1] - (T_rlx[:-1]-T_out)/R)\n",
    "constraints_rlx  += [T_rlx[1:] == T_rlx[:-1] + deltaT]\n",
    "# T0\n",
    "constraints_rlx  += [T_rlx[0] == T0]\n",
    "\n",
    "print('Constraints:')\n",
    "for c in constraints_rlx :\n",
    "    print(c.OP_NAME, end='')\n",
    "    print(' ' +  repr(c.args[0]))\n",
    "    print('   ' +  repr(c.args[1]))\n",
    "    print()"
   ]
  },
  {
   "cell_type": "markdown",
   "metadata": {},
   "source": [
    "Solve the Linear Program:"
   ]
  },
  {
   "cell_type": "code",
   "execution_count": 24,
   "metadata": {
    "collapsed": false
   },
   "outputs": [
    {
     "data": {
      "text/plain": [
       "225.37462333657487"
      ]
     },
     "execution_count": 24,
     "metadata": {},
     "output_type": "execute_result"
    }
   ],
   "source": [
    "prob_rlx  = cx.Problem(objective_rlx , constraints_rlx )\n",
    "result_rlx  = prob_rlx .solve()\n",
    "result_rlx"
   ]
  },
  {
   "cell_type": "code",
   "execution_count": 25,
   "metadata": {
    "collapsed": false
   },
   "outputs": [
    {
     "name": "stdout",
     "output_type": "stream",
     "text": [
      "energy consum: 0.936 kW avg\n",
      "comfort violation penal: 0.003 (with confort weight 10 kW/°)\n",
      "LP avg cost: 0.939061\n"
     ]
    }
   ],
   "source": [
    "ccom = T_diff.value.mean()*comfort_weight\n",
    "cener = P_rlx.value.mean()\n",
    "print('energy consum: {:.3f} kW avg'.format(cener))\n",
    "print('comfort violation penal: {:.3f} (with confort weight {} kW/°)'.format(\n",
    "        ccom, comfort_weight))\n",
    "print('LP avg cost: {:.6f}'.format(result_rlx /N_sim))"
   ]
  },
  {
   "cell_type": "markdown",
   "metadata": {},
   "source": [
    "Difference in the result:"
   ]
  },
  {
   "cell_type": "code",
   "execution_count": 26,
   "metadata": {
    "collapsed": false
   },
   "outputs": [
    {
     "data": {
      "text/plain": [
       "-3.6903600175719475e-09"
      ]
     },
     "execution_count": 26,
     "metadata": {},
     "output_type": "execute_result"
    }
   ],
   "source": [
    "result_rlx - result"
   ]
  },
  {
   "cell_type": "code",
   "execution_count": 27,
   "metadata": {
    "collapsed": false
   },
   "outputs": [
    {
     "name": "stdout",
     "output_type": "stream",
     "text": [
      "max T_min violation: 0.0631 °C\n"
     ]
    }
   ],
   "source": [
    "print('max T_min violation: {:.4f} °C'.format(T_diff.value.max()))"
   ]
  },
  {
   "cell_type": "code",
   "execution_count": 28,
   "metadata": {
    "collapsed": false
   },
   "outputs": [
    {
     "data": {
      "image/png": "[encoded data removed]",
      "text/plain": [
       "<matplotlib.figure.Figure at 0x110351450>"
      ]
     },
     "metadata": {},
     "output_type": "display_data"
    }
   ],
   "source": [
    "plot_traj(t, T_rlx.value, T_out, T_min, P_rlx.value);"
   ]
  },
  {
   "cell_type": "markdown",
   "metadata": {},
   "source": [
    "### Zoom at the difference"
   ]
  },
  {
   "cell_type": "code",
   "execution_count": 29,
   "metadata": {
    "collapsed": true
   },
   "outputs": [],
   "source": [
    "t_zoom = (21.5, 22.5) # h"
   ]
  },
  {
   "cell_type": "code",
   "execution_count": 30,
   "metadata": {
    "collapsed": false
   },
   "outputs": [
    {
     "data": {
      "image/png": "[encoded data removed]",
      "text/plain": [
       "<matplotlib.figure.Figure at 0x110605190>"
      ]
     },
     "metadata": {},
     "output_type": "display_data"
    }
   ],
   "source": [
    "plt.plot(t, T.value, 'kd--')\n",
    "plt.plot(t, T_rlx.value, 'd-')\n",
    "plt.plot(t, T_min)\n",
    "plt.xlim(*t_zoom)\n",
    "plt.ylim(T_pres-0.5, T_pres+0.2);"
   ]
  },
  {
   "cell_type": "code",
   "execution_count": 31,
   "metadata": {
    "collapsed": false
   },
   "outputs": [
    {
     "data": {
      "image/png": "[encoded data removed]",
      "text/plain": [
       "<matplotlib.figure.Figure at 0x11030c490>"
      ]
     },
     "metadata": {},
     "output_type": "display_data"
    }
   ],
   "source": [
    "plt.plot(t, T_diff.value)\n",
    "plt.xlim(*t_zoom);"
   ]
  },
  {
   "cell_type": "code",
   "execution_count": 32,
   "metadata": {
    "collapsed": false,
    "scrolled": true
   },
   "outputs": [
    {
     "data": {
      "image/png": "[encoded data removed]",
      "text/plain": [
       "<matplotlib.figure.Figure at 0x111a12bd0>"
      ]
     },
     "metadata": {},
     "output_type": "display_data"
    }
   ],
   "source": [
    "plt.plot(t, P.value, 'd-', lw=0.8);\n",
    "plt.plot(t, P_rlx.value, 'rd-')\n",
    "plt.xlim(*t_zoom);"
   ]
  },
  {
   "cell_type": "markdown",
   "metadata": {},
   "source": [
    "Observation:\n",
    "\n",
    "with `comfort_weight = 10`, there is a small trade off of energy against comfort near the end of the problem (-0.063 °C loss at 21.9 h). Energy consumption is slighlty reduced, but total LP cost is the same however (at least 4 digits)\n",
    "\n",
    "with `comfort_weight = 100`, it becomes negligible"
   ]
  }
 ],
 "metadata": {
  "kernelspec": {
   "display_name": "Python 2",
   "language": "python",
   "name": "python2"
  },
  "language_info": {
   "codemirror_mode": {
    "name": "ipython",
    "version": 2
   },
   "file_extension": ".py",
   "mimetype": "text/x-python",
   "name": "python",
   "nbconvert_exporter": "python",
   "pygments_lexer": "ipython2",
   "version": "2.7.11"
  }
 },
 "nbformat": 4,
 "nbformat_minor": 0
}
