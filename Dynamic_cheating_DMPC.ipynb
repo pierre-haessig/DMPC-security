{
 "cells": [
  {
   "cell_type": "markdown",
   "metadata": {},
   "source": [
    "# Study of the parameters"
   ]
  },
  {
   "cell_type": "markdown",
   "metadata": {},
   "source": [
    "The objective of this study is to determine the influence of the different parameters on the power distribution. We will now focus on the dynamic model which is described relies on DMPC.py."
   ]
  },
  {
   "cell_type": "markdown",
   "metadata": {},
   "source": [
    "One of the principal issue here is to get an overview of the compfort parameter in ordr to use it to cheat in the CMPC at first."
   ]
  },
  {
   "cell_type": "markdown",
   "metadata": {},
   "source": [
    "\n",
    "-- Sylvain Chatel, July 2016 --"
   ]
  },
  {
   "cell_type": "code",
   "execution_count": null,
   "metadata": {
    "collapsed": false
   },
   "outputs": [],
   "source": [
    "from __future__ import division, print_function\n",
    "import DMPC_Draft as DO\n",
    "from cvxopt import matrix, solvers\n",
    "import numpy as np\n",
    "from tabulate import tabulate\n",
    "import matplotlib.pyplot as plt\n",
    "from tempfile import TemporaryFile\n",
    "%matplotlib inline"
   ]
  },
  {
   "cell_type": "markdown",
   "metadata": {},
   "source": [
    "## Influence of the comfort parameter for two users"
   ]
  },
  {
   "cell_type": "markdown",
   "metadata": {},
   "source": [
    "### Definition of the problem"
   ]
  },
  {
   "cell_type": "code",
   "execution_count": null,
   "metadata": {
    "collapsed": false
   },
   "outputs": [],
   "source": [
    "# number of users\n",
    "m = 2\n",
    "# vector of users\n",
    "i = np.arange(m)\n",
    "# Time step\n",
    "dt = 0.1  # h\n",
    "# Simulation Horizon\n",
    "N_sim = int(24/dt)\n",
    "# Prediction Horizon\n",
    "N = int(5/dt)\n",
    "# time vector\n",
    "t = np.arange(N + N_sim) * dt\n",
    "t_sim = np.arange(N_sim) * dt\n",
    "# max energy in kW\n",
    "Umax = 3\n",
    "# max admissible energy\n",
    "u_m = np.array([2, 2], dtype=float)\n",
    "# thermal parameters\n",
    "        ## Exterior Temperature on the whole horizon\n",
    "Text_sim = np.ones(m*(N_sim + N))*0\n",
    "        ## Exterior Temperature on the prediction horizon initially\n",
    "Text = Text_sim[0:m*N]\n",
    "        ## Temperature when present\n",
    "Tpres = 22\n",
    "        ## Temperature when absent\n",
    "Tabs = 18\n",
    "        ## Initial temperature in all users\n",
    "T_init = np.array([10, 10], dtype=float)\n",
    "        ## Thermal Resistance\n",
    "Rth = np.array([50, 50], dtype=float)\n",
    "        ## Thermal Capacity\n",
    "Cth = np.array([0.056, 0.056], dtype=float)\n",
    "        ## Reference temperature through the whole horizon\n",
    "T_mod = np.hstack(\n",
    "    (DO.temp_id(N_sim + N, dt, Tabs, Tpres), DO.temp_id(N_sim + N, dt, Tabs, Tpres)))  ## ATTENTION : defined user after user\n",
    "        ## Reference temperature through the simulation horizon\n",
    "T_id_pred = np.hstack(\n",
    "    (DO.temp_id(N_sim, dt, Tabs, Tpres), DO.temp_id(N_sim, dt, Tabs, Tpres)))  ## ATTENTION : defined user after user\n",
    "# comfort factor\n",
    "alpha = np.array([10, 10], dtype=float)\n",
    "alpha_2 = np.array([0, 10], dtype=float)\n",
    "\n",
    "## Verifications\n",
    "assert len(u_m) == m, \"illegal number of users. Expecting %s. and received %s.\" % (m, len(u_m))\n",
    "assert len(T_init) == m, \"illegal number of T_init. Expecting %s. and received %s.\" % (m, len(T_init))\n",
    "assert len(Rth) == m, \"illegal number of Rth. Expecting %s. and received %s.\" % (m, len(Rth))\n",
    "assert len(Cth) == m, \"illegal number of Cth. Expecting %s. and received %s.\" % (m, len(Cth))\n",
    "assert len(alpha) == m, \"illegal number of alpha. Expecting %s. and received %s.\" % (m, len(alpha))\n",
    "\n",
    "# Definition of the dictionary\n",
    "pb_1 = dict(m=m, dt=dt, Umax=Umax, u_m=u_m, Text=Text, Text_sim=Text_sim, T_mod=T_mod, T_init=T_init, Rth=Rth, Cth=Cth,\n",
    "          T_id_pred=T_id_pred, alpha=alpha, N=N, N_sim=N_sim)\n",
    "\n",
    "pb_2 = dict(m=m, dt=dt, Umax=Umax, u_m=u_m, Text=Text, Text_sim=Text_sim, T_mod=T_mod, T_init=T_init, Rth=Rth, Cth=Cth,\n",
    "          T_id_pred=T_id_pred, alpha=alpha_2, N=N, N_sim=N_sim)"
   ]
  },
  {
   "cell_type": "code",
   "execution_count": null,
   "metadata": {
    "collapsed": false
   },
   "outputs": [],
   "source": [
    "T_1, U_1 = DO.get_Opt_CL(pb_1)\n",
    "T_2, U_2= DO.get_Opt_CL(pb_2)\n",
    "DO.plot_T(pb_1, 0, T_1, U_1, r'$\\alpha$', T_2, U_2, r'$\\alpha_2$')"
   ]
  },
  {
   "cell_type": "code",
   "execution_count": null,
   "metadata": {
    "collapsed": true
   },
   "outputs": [],
   "source": [
    "pb_2['alpha'] = np.array([0, 1], dtype=float)"
   ]
  },
  {
   "cell_type": "code",
   "execution_count": null,
   "metadata": {
    "collapsed": false
   },
   "outputs": [],
   "source": [
    "T_2, U_2= DO.get_Opt_CL(pb_2)\n",
    "\n",
    "DO.plot_T_tot(pb_1, T_1, U_1, r'$\\alpha$', T_2, U_2, r'$\\alpha_2$')"
   ]
  },
  {
   "cell_type": "markdown",
   "metadata": {},
   "source": [
    "*Note : We can easily extend this result for two users to multiple users using the observations made with the static parametric study. The behaviors are the same, just enhanced.*"
   ]
  },
  {
   "cell_type": "code",
   "execution_count": null,
   "metadata": {
    "collapsed": true
   },
   "outputs": [],
   "source": []
  }
 ],
 "metadata": {
  "kernelspec": {
   "display_name": "Python 2",
   "language": "python",
   "name": "python2"
  },
  "language_info": {
   "codemirror_mode": {
    "name": "ipython",
    "version": 2
   },
   "file_extension": ".py",
   "mimetype": "text/x-python",
   "name": "python",
   "nbconvert_exporter": "python",
   "pygments_lexer": "ipython2",
   "version": "2.7.12"
  }
 },
 "nbformat": 4,
 "nbformat_minor": 0
}
