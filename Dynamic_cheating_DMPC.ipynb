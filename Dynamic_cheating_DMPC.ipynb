{
 "cells": [
  {
   "cell_type": "markdown",
   "metadata": {},
   "source": [
    "# Study of the comfort parameter"
   ]
  },
  {
   "cell_type": "markdown",
   "metadata": {},
   "source": [
    "The objective of this study is to determine the influence of the comfort parameter $\\alpha$ on the power distribution. We will now focus on the dynamic model which is described relies on DMPC.py."
   ]
  },
  {
   "cell_type": "markdown",
   "metadata": {},
   "source": [
    "One of the principal issue here is to get an overview of the compfort parameter in ordr to use it to cheat in the DMPC."
   ]
  },
  {
   "cell_type": "markdown",
   "metadata": {},
   "source": [
    "\n",
    "-- Sylvain Chatel, July 2016 --"
   ]
  },
  {
   "cell_type": "code",
   "execution_count": 2,
   "metadata": {
    "collapsed": false
   },
   "outputs": [
    {
     "name": "stderr",
     "output_type": "stream",
     "text": [
      "/Users/sylvainchatel/anaconda/lib/python2.7/site-packages/matplotlib/font_manager.py:273: UserWarning: Matplotlib is building the font cache using fc-list. This may take a moment.\n",
      "  warnings.warn('Matplotlib is building the font cache using fc-list. This may take a moment.')\n"
     ]
    }
   ],
   "source": [
    "from __future__ import division, print_function\n",
    "import DMPC_Draft as DO\n",
    "from cvxopt import matrix, solvers\n",
    "import numpy as np\n",
    "from tabulate import tabulate\n",
    "import matplotlib.pyplot as plt\n",
    "from tempfile import TemporaryFile\n",
    "%matplotlib inline"
   ]
  },
  {
   "cell_type": "markdown",
   "metadata": {},
   "source": [
    "## Influence of the comfort parameter for two users"
   ]
  },
  {
   "cell_type": "markdown",
   "metadata": {},
   "source": [
    "### Definition of the problem"
   ]
  },
  {
   "cell_type": "code",
   "execution_count": 3,
   "metadata": {
    "collapsed": false
   },
   "outputs": [
    {
     "ename": "NameError",
     "evalue": "global name 'dt' is not defined",
     "output_type": "error",
     "traceback": [
      "\u001b[0;31m---------------------------------------------------------------------------\u001b[0m",
      "\u001b[0;31mNameError\u001b[0m                                 Traceback (most recent call last)",
      "\u001b[0;32m<ipython-input-3-85bc263219b9>\u001b[0m in \u001b[0;36m<module>\u001b[0;34m()\u001b[0m\n\u001b[1;32m     28\u001b[0m         \u001b[0;31m## Reference temperature through the whole horizon\u001b[0m\u001b[0;34m\u001b[0m\u001b[0;34m\u001b[0m\u001b[0m\n\u001b[1;32m     29\u001b[0m T_mod = np.hstack(\n\u001b[0;32m---> 30\u001b[0;31m     (DO.temp_id(N_sim + N, Tabs, Tpres), DO.temp_id(N_sim + N, Tabs, Tpres)))  ## ATTENTION : defined user after user\n\u001b[0m\u001b[1;32m     31\u001b[0m         \u001b[0;31m## Reference temperature through the simulation horizon\u001b[0m\u001b[0;34m\u001b[0m\u001b[0;34m\u001b[0m\u001b[0m\n\u001b[1;32m     32\u001b[0m T_id_pred = np.hstack(\n",
      "\u001b[0;32m/Users/sylvainchatel/PycharmProjects/ASH/DMPC_Draft.py\u001b[0m in \u001b[0;36mtemp_id\u001b[0;34m(size, T_abs, T_pres)\u001b[0m\n\u001b[1;32m    377\u001b[0m     \u001b[0mReturns\u001b[0m \u001b[0;34m:\u001b[0m \u001b[0mtemperature\u001b[0m \u001b[0mprofile\u001b[0m\u001b[0;34m\u001b[0m\u001b[0m\n\u001b[1;32m    378\u001b[0m     \"\"\"\n\u001b[0;32m--> 379\u001b[0;31m     \u001b[0mt\u001b[0m \u001b[0;34m=\u001b[0m \u001b[0mnp\u001b[0m\u001b[0;34m.\u001b[0m\u001b[0marange\u001b[0m\u001b[0;34m(\u001b[0m\u001b[0msize\u001b[0m\u001b[0;34m)\u001b[0m \u001b[0;34m*\u001b[0m \u001b[0mdt\u001b[0m\u001b[0;34m\u001b[0m\u001b[0m\n\u001b[0m\u001b[1;32m    380\u001b[0m     \u001b[0mocc\u001b[0m \u001b[0;34m=\u001b[0m \u001b[0moccupancy\u001b[0m\u001b[0;34m(\u001b[0m\u001b[0mt\u001b[0m\u001b[0;34m)\u001b[0m\u001b[0;34m\u001b[0m\u001b[0m\n\u001b[1;32m    381\u001b[0m     \u001b[0mT_min\u001b[0m \u001b[0;34m=\u001b[0m \u001b[0mnp\u001b[0m\u001b[0;34m.\u001b[0m\u001b[0mzeros\u001b[0m\u001b[0;34m(\u001b[0m\u001b[0msize\u001b[0m\u001b[0;34m)\u001b[0m \u001b[0;34m+\u001b[0m \u001b[0mT_abs\u001b[0m  \u001b[0;31m# degC\u001b[0m\u001b[0;34m\u001b[0m\u001b[0m\n",
      "\u001b[0;31mNameError\u001b[0m: global name 'dt' is not defined"
     ]
    }
   ],
   "source": [
    "m = 2\n",
    "\n",
    "# Time step\n",
    "dt = 0.1  # h\n",
    "# Simulation Horizon\n",
    "N_sim = int(24/dt)\n",
    "# Prediction Horizon\n",
    "N = int(5/dt)\n",
    "# max energy in kW\n",
    "Umax = 3\n",
    "# max admissible energy\n",
    "u_m = np.array([2, 2], dtype=float)\n",
    "# thermal parameters\n",
    "        ## Exterior Temperature on the whole horizon\n",
    "Text_sim = np.ones(m*(N_sim + N))*0\n",
    "        ## Exterior Temperature on the prediction horizon initially\n",
    "Text = Text_sim[0:m*N]\n",
    "        ## Temperature when present\n",
    "Tpres = 22\n",
    "        ## Temperature when absent\n",
    "Tabs = 18\n",
    "        ## Initial temperature in all users\n",
    "T_init = np.array([10, 10], dtype=float)\n",
    "        ## Thermal Resistance\n",
    "Rth = np.array([50, 50], dtype=float)\n",
    "        ## Thermal Capacity\n",
    "Cth = np.array([0.056, 0.056], dtype=float)\n",
    "        ## Reference temperature through the whole horizon\n",
    "T_mod = np.hstack(\n",
    "    (DO.temp_id(N_sim + N, Tabs, Tpres), DO.temp_id(N_sim + N, Tabs, Tpres)))  ## ATTENTION : defined user after user\n",
    "        ## Reference temperature through the simulation horizon\n",
    "T_id_pred = np.hstack(\n",
    "    (DO.temp_id(N_sim, Tabs, Tpres), DO.temp_id(N_sim, Tabs, Tpres)))  ## ATTENTION : defined user after user\n",
    "# comfort factor\n",
    "alpha_1 = np.array([10, 10], dtype=float)\n",
    "alpha_2 = np.array([10, 20], dtype=float)\n",
    "\n",
    "## Verifications\n",
    "assert len(u_m) == m, \"illegal number of users. Expecting %s. and received %s.\" % (m, len(u_m))\n",
    "assert len(T_init) == m, \"illegal number of T_init. Expecting %s. and received %s.\" % (m, len(T_init))\n",
    "assert len(Rth) == m, \"illegal number of Rth. Expecting %s. and received %s.\" % (m, len(Rth))\n",
    "assert len(Cth) == m, \"illegal number of Cth. Expecting %s. and received %s.\" % (m, len(Cth))\n",
    "assert len(alpha) == m, \"illegal number of alpha. Expecting %s. and received %s.\" % (m, len(alpha))\n",
    "\n",
    "# Definition of the dictionary\n",
    "pb_1 = dict(m=m, dt=dt, Umax=Umax, u_m=u_m, Text=Text, Text_sim=Text_sim, T_mod=T_mod, T_init=T_init, Rth=Rth, Cth=Cth,\n",
    "          T_id_pred=T_id_pred, alpha=alpha, N=N, N_sim=N_sim)\n",
    "\n",
    "pb_2 = dict(m=m, dt=dt, Umax=Umax, u_m=u_m, Text=Text, Text_sim=Text_sim, T_mod=T_mod, T_init=T_init, Rth=Rth, Cth=Cth,\n",
    "          T_id_pred=T_id_pred, alpha=alpha_2, N=N, N_sim=N_sim)"
   ]
  },
  {
   "cell_type": "code",
   "execution_count": null,
   "metadata": {
    "collapsed": true
   },
   "outputs": [],
   "source": [
    "T_1, U_1 =get_Opt_CL(pb_1)\n",
    "T_2, U_2= get_Opt_CL(pb_2)\n",
    "plot_T(pb, 0, T_res, U, r'$\\alpha$', T_cen, U_cen, r'$\\alpha_2$')"
   ]
  }
 ],
 "metadata": {
  "kernelspec": {
   "display_name": "Python 2",
   "language": "python",
   "name": "python2"
  },
  "language_info": {
   "codemirror_mode": {
    "name": "ipython",
    "version": 2
   },
   "file_extension": ".py",
   "mimetype": "text/x-python",
   "name": "python",
   "nbconvert_exporter": "python",
   "pygments_lexer": "ipython2",
   "version": "2.7.11"
  }
 },
 "nbformat": 4,
 "nbformat_minor": 0
}
